{
 "cells": [
  {
   "cell_type": "code",
   "execution_count": 1,
   "metadata": {
    "collapsed": true
   },
   "outputs": [],
   "source": [
    "import numpy as np\n",
    "import pandas as pd\n",
    "import tensorflow as tf\n",
    "from sklearn.model_selection import train_test_split"
   ]
  },
  {
   "cell_type": "code",
   "execution_count": 2,
   "metadata": {
    "collapsed": true
   },
   "outputs": [],
   "source": [
    "california_df = pd.read_csv('datasets/cal_housing_clean.csv')"
   ]
  },
  {
   "cell_type": "code",
   "execution_count": 3,
   "metadata": {
    "collapsed": false
   },
   "outputs": [
    {
     "data": {
      "text/html": [
       "<div>\n",
       "<table border=\"1\" class=\"dataframe\">\n",
       "  <thead>\n",
       "    <tr style=\"text-align: right;\">\n",
       "      <th></th>\n",
       "      <th>housingMedianAge</th>\n",
       "      <th>totalRooms</th>\n",
       "      <th>totalBedrooms</th>\n",
       "      <th>population</th>\n",
       "      <th>households</th>\n",
       "      <th>medianIncome</th>\n",
       "      <th>medianHouseValue</th>\n",
       "    </tr>\n",
       "  </thead>\n",
       "  <tbody>\n",
       "    <tr>\n",
       "      <th>count</th>\n",
       "      <td>20640.000000</td>\n",
       "      <td>20640.000000</td>\n",
       "      <td>20640.000000</td>\n",
       "      <td>20640.000000</td>\n",
       "      <td>20640.000000</td>\n",
       "      <td>20640.000000</td>\n",
       "      <td>20640.000000</td>\n",
       "    </tr>\n",
       "    <tr>\n",
       "      <th>mean</th>\n",
       "      <td>28.639486</td>\n",
       "      <td>2635.763081</td>\n",
       "      <td>537.898014</td>\n",
       "      <td>1425.476744</td>\n",
       "      <td>499.539680</td>\n",
       "      <td>3.870671</td>\n",
       "      <td>206855.816909</td>\n",
       "    </tr>\n",
       "    <tr>\n",
       "      <th>std</th>\n",
       "      <td>12.585558</td>\n",
       "      <td>2181.615252</td>\n",
       "      <td>421.247906</td>\n",
       "      <td>1132.462122</td>\n",
       "      <td>382.329753</td>\n",
       "      <td>1.899822</td>\n",
       "      <td>115395.615874</td>\n",
       "    </tr>\n",
       "    <tr>\n",
       "      <th>min</th>\n",
       "      <td>1.000000</td>\n",
       "      <td>2.000000</td>\n",
       "      <td>1.000000</td>\n",
       "      <td>3.000000</td>\n",
       "      <td>1.000000</td>\n",
       "      <td>0.499900</td>\n",
       "      <td>14999.000000</td>\n",
       "    </tr>\n",
       "    <tr>\n",
       "      <th>25%</th>\n",
       "      <td>18.000000</td>\n",
       "      <td>1447.750000</td>\n",
       "      <td>295.000000</td>\n",
       "      <td>787.000000</td>\n",
       "      <td>280.000000</td>\n",
       "      <td>2.563400</td>\n",
       "      <td>119600.000000</td>\n",
       "    </tr>\n",
       "    <tr>\n",
       "      <th>50%</th>\n",
       "      <td>29.000000</td>\n",
       "      <td>2127.000000</td>\n",
       "      <td>435.000000</td>\n",
       "      <td>1166.000000</td>\n",
       "      <td>409.000000</td>\n",
       "      <td>3.534800</td>\n",
       "      <td>179700.000000</td>\n",
       "    </tr>\n",
       "    <tr>\n",
       "      <th>75%</th>\n",
       "      <td>37.000000</td>\n",
       "      <td>3148.000000</td>\n",
       "      <td>647.000000</td>\n",
       "      <td>1725.000000</td>\n",
       "      <td>605.000000</td>\n",
       "      <td>4.743250</td>\n",
       "      <td>264725.000000</td>\n",
       "    </tr>\n",
       "    <tr>\n",
       "      <th>max</th>\n",
       "      <td>52.000000</td>\n",
       "      <td>39320.000000</td>\n",
       "      <td>6445.000000</td>\n",
       "      <td>35682.000000</td>\n",
       "      <td>6082.000000</td>\n",
       "      <td>15.000100</td>\n",
       "      <td>500001.000000</td>\n",
       "    </tr>\n",
       "  </tbody>\n",
       "</table>\n",
       "</div>"
      ],
      "text/plain": [
       "       housingMedianAge    totalRooms  totalBedrooms    population  \\\n",
       "count      20640.000000  20640.000000   20640.000000  20640.000000   \n",
       "mean          28.639486   2635.763081     537.898014   1425.476744   \n",
       "std           12.585558   2181.615252     421.247906   1132.462122   \n",
       "min            1.000000      2.000000       1.000000      3.000000   \n",
       "25%           18.000000   1447.750000     295.000000    787.000000   \n",
       "50%           29.000000   2127.000000     435.000000   1166.000000   \n",
       "75%           37.000000   3148.000000     647.000000   1725.000000   \n",
       "max           52.000000  39320.000000    6445.000000  35682.000000   \n",
       "\n",
       "         households  medianIncome  medianHouseValue  \n",
       "count  20640.000000  20640.000000      20640.000000  \n",
       "mean     499.539680      3.870671     206855.816909  \n",
       "std      382.329753      1.899822     115395.615874  \n",
       "min        1.000000      0.499900      14999.000000  \n",
       "25%      280.000000      2.563400     119600.000000  \n",
       "50%      409.000000      3.534800     179700.000000  \n",
       "75%      605.000000      4.743250     264725.000000  \n",
       "max     6082.000000     15.000100     500001.000000  "
      ]
     },
     "execution_count": 3,
     "metadata": {},
     "output_type": "execute_result"
    }
   ],
   "source": [
    "california_df.describe()"
   ]
  },
  {
   "cell_type": "code",
   "execution_count": 4,
   "metadata": {
    "collapsed": true
   },
   "outputs": [],
   "source": [
    "x_data = california_df.drop(['medianHouseValue'], axis=1)"
   ]
  },
  {
   "cell_type": "code",
   "execution_count": 5,
   "metadata": {
    "collapsed": true
   },
   "outputs": [],
   "source": [
    "y_val = california_df['medianHouseValue']"
   ]
  },
  {
   "cell_type": "code",
   "execution_count": 6,
   "metadata": {
    "collapsed": true
   },
   "outputs": [],
   "source": [
    "x_train, x_test, y_train, y_test = train_test_split(x_data, y_val, test_size=0.3,\n",
    "                                                   random_state=101)"
   ]
  },
  {
   "cell_type": "code",
   "execution_count": 7,
   "metadata": {
    "collapsed": true
   },
   "outputs": [],
   "source": [
    "from sklearn.preprocessing import MinMaxScaler"
   ]
  },
  {
   "cell_type": "code",
   "execution_count": 8,
   "metadata": {
    "collapsed": false
   },
   "outputs": [],
   "source": [
    "scaler = MinMaxScaler()"
   ]
  },
  {
   "cell_type": "code",
   "execution_count": 9,
   "metadata": {
    "collapsed": false
   },
   "outputs": [
    {
     "data": {
      "text/plain": [
       "MinMaxScaler(copy=True, feature_range=(0, 1))"
      ]
     },
     "execution_count": 9,
     "metadata": {},
     "output_type": "execute_result"
    }
   ],
   "source": [
    "scaler.fit(x_train)"
   ]
  },
  {
   "cell_type": "code",
   "execution_count": 10,
   "metadata": {
    "collapsed": true
   },
   "outputs": [],
   "source": [
    "x_train = pd.DataFrame(data=scaler.transform(x_train), columns=x_train.columns,index=x_train.index)"
   ]
  },
  {
   "cell_type": "code",
   "execution_count": 11,
   "metadata": {
    "collapsed": true
   },
   "outputs": [],
   "source": [
    "x_test = pd.DataFrame(data=scaler.transform(x_test), columns=x_test.columns, index=x_test.index)"
   ]
  },
  {
   "cell_type": "code",
   "execution_count": 12,
   "metadata": {
    "collapsed": false
   },
   "outputs": [
    {
     "data": {
      "text/plain": [
       "Index(['housingMedianAge', 'totalRooms', 'totalBedrooms', 'population',\n",
       "       'households', 'medianIncome', 'medianHouseValue'],\n",
       "      dtype='object')"
      ]
     },
     "execution_count": 12,
     "metadata": {},
     "output_type": "execute_result"
    }
   ],
   "source": [
    "california_df.columns"
   ]
  },
  {
   "cell_type": "code",
   "execution_count": 13,
   "metadata": {
    "collapsed": true
   },
   "outputs": [],
   "source": [
    "age = tf.feature_column.numeric_column('housingMedianAge')\n",
    "rooms = tf.feature_column.numeric_column('totalRooms')\n",
    "bedrooms = tf.feature_column.numeric_column('totalBedrooms')\n",
    "population = tf.feature_column.numeric_column('population')\n",
    "households = tf.feature_column.numeric_column('households')\n",
    "income = tf.feature_column.numeric_column('medianIncome')"
   ]
  },
  {
   "cell_type": "code",
   "execution_count": 14,
   "metadata": {
    "collapsed": true
   },
   "outputs": [],
   "source": [
    "feat_cols = [age, rooms, bedrooms, population, households, income]"
   ]
  },
  {
   "cell_type": "code",
   "execution_count": 15,
   "metadata": {
    "collapsed": true
   },
   "outputs": [],
   "source": [
    "input_function = tf.estimator.inputs.pandas_input_fn(x=x_train, y=y_train,batch_size=10,num_epochs=1000,shuffle=True)"
   ]
  },
  {
   "cell_type": "code",
   "execution_count": 16,
   "metadata": {
    "collapsed": false
   },
   "outputs": [
    {
     "name": "stdout",
     "output_type": "stream",
     "text": [
      "INFO:tensorflow:Using default config.\n",
      "WARNING:tensorflow:Using temporary folder as model directory: /tmp/tmppx3_3jpi\n",
      "INFO:tensorflow:Using config: {'_cluster_spec': <tensorflow.python.training.server_lib.ClusterSpec object at 0x7efd0a663fd0>, '_service': None, '_save_checkpoints_steps': None, '_session_config': None, '_tf_random_seed': None, '_evaluation_master': '', '_model_dir': '/tmp/tmppx3_3jpi', '_num_worker_replicas': 1, '_keep_checkpoint_every_n_hours': 10000, '_global_id_in_cluster': 0, '_master': '', '_task_type': 'worker', '_is_chief': True, '_task_id': 0, '_num_ps_replicas': 0, '_train_distribute': None, '_keep_checkpoint_max': 5, '_save_checkpoints_secs': 600, '_log_step_count_steps': 100, '_save_summary_steps': 100}\n"
     ]
    }
   ],
   "source": [
    "estimator = tf.estimator.DNNRegressor(feature_columns=feat_cols, hidden_units=[6,6,6])"
   ]
  },
  {
   "cell_type": "code",
   "execution_count": 25,
   "metadata": {
    "collapsed": false
   },
   "outputs": [
    {
     "name": "stdout",
     "output_type": "stream",
     "text": [
      "INFO:tensorflow:Calling model_fn.\n",
      "INFO:tensorflow:Done calling model_fn.\n",
      "INFO:tensorflow:Create CheckpointSaverHook.\n",
      "INFO:tensorflow:Graph was finalized.\n",
      "INFO:tensorflow:Restoring parameters from /tmp/tmppx3_3jpi/model.ckpt-1000\n",
      "INFO:tensorflow:Running local_init_op.\n",
      "INFO:tensorflow:Done running local_init_op.\n",
      "INFO:tensorflow:Saving checkpoints for 1001 into /tmp/tmppx3_3jpi/model.ckpt.\n",
      "INFO:tensorflow:step = 1001, loss = 3.53204e+11\n",
      "INFO:tensorflow:global_step/sec: 458.907\n",
      "INFO:tensorflow:step = 1101, loss = 3.50537e+11 (0.223 sec)\n",
      "INFO:tensorflow:global_step/sec: 528.084\n",
      "INFO:tensorflow:step = 1201, loss = 3.04374e+11 (0.188 sec)\n",
      "INFO:tensorflow:global_step/sec: 520.018\n",
      "INFO:tensorflow:step = 1301, loss = 2.5101e+11 (0.193 sec)\n",
      "INFO:tensorflow:global_step/sec: 472.824\n",
      "INFO:tensorflow:step = 1401, loss = 3.5132e+11 (0.211 sec)\n",
      "INFO:tensorflow:global_step/sec: 480.089\n",
      "INFO:tensorflow:step = 1501, loss = 2.19583e+11 (0.209 sec)\n",
      "INFO:tensorflow:global_step/sec: 491.672\n",
      "INFO:tensorflow:step = 1601, loss = 2.62031e+11 (0.201 sec)\n",
      "INFO:tensorflow:global_step/sec: 506.462\n",
      "INFO:tensorflow:step = 1701, loss = 8.2825e+10 (0.201 sec)\n",
      "INFO:tensorflow:global_step/sec: 518.352\n",
      "INFO:tensorflow:step = 1801, loss = 1.26608e+11 (0.192 sec)\n",
      "INFO:tensorflow:global_step/sec: 507.339\n",
      "INFO:tensorflow:step = 1901, loss = 1.79157e+11 (0.198 sec)\n",
      "INFO:tensorflow:global_step/sec: 567.596\n",
      "INFO:tensorflow:step = 2001, loss = 1.24654e+11 (0.174 sec)\n",
      "INFO:tensorflow:global_step/sec: 560.761\n",
      "INFO:tensorflow:step = 2101, loss = 1.53191e+11 (0.179 sec)\n",
      "INFO:tensorflow:global_step/sec: 536.321\n",
      "INFO:tensorflow:step = 2201, loss = 1.15187e+11 (0.186 sec)\n",
      "INFO:tensorflow:global_step/sec: 508.958\n",
      "INFO:tensorflow:step = 2301, loss = 1.51147e+11 (0.196 sec)\n",
      "INFO:tensorflow:global_step/sec: 505.337\n",
      "INFO:tensorflow:step = 2401, loss = 9.74635e+10 (0.198 sec)\n",
      "INFO:tensorflow:global_step/sec: 546.062\n",
      "INFO:tensorflow:step = 2501, loss = 9.56275e+10 (0.184 sec)\n",
      "INFO:tensorflow:global_step/sec: 499.181\n",
      "INFO:tensorflow:step = 2601, loss = 1.14952e+11 (0.200 sec)\n",
      "INFO:tensorflow:global_step/sec: 481.914\n",
      "INFO:tensorflow:step = 2701, loss = 2.71459e+10 (0.205 sec)\n",
      "INFO:tensorflow:global_step/sec: 517.355\n",
      "INFO:tensorflow:step = 2801, loss = 6.49745e+10 (0.195 sec)\n",
      "INFO:tensorflow:global_step/sec: 539.671\n",
      "INFO:tensorflow:step = 2901, loss = 1.89355e+11 (0.186 sec)\n",
      "INFO:tensorflow:global_step/sec: 537.669\n",
      "INFO:tensorflow:step = 3001, loss = 1.14508e+11 (0.185 sec)\n",
      "INFO:tensorflow:global_step/sec: 499.077\n",
      "INFO:tensorflow:step = 3101, loss = 5.87175e+10 (0.201 sec)\n",
      "INFO:tensorflow:global_step/sec: 507.018\n",
      "INFO:tensorflow:step = 3201, loss = 8.14153e+10 (0.197 sec)\n",
      "INFO:tensorflow:global_step/sec: 515.42\n",
      "INFO:tensorflow:step = 3301, loss = 1.89969e+11 (0.196 sec)\n",
      "INFO:tensorflow:global_step/sec: 520.05\n",
      "INFO:tensorflow:step = 3401, loss = 1.27914e+11 (0.192 sec)\n",
      "INFO:tensorflow:global_step/sec: 493.347\n",
      "INFO:tensorflow:step = 3501, loss = 5.22298e+10 (0.204 sec)\n",
      "INFO:tensorflow:global_step/sec: 503.091\n",
      "INFO:tensorflow:step = 3601, loss = 1.55026e+11 (0.198 sec)\n",
      "INFO:tensorflow:global_step/sec: 559.966\n",
      "INFO:tensorflow:step = 3701, loss = 8.24199e+10 (0.178 sec)\n",
      "INFO:tensorflow:global_step/sec: 533.539\n",
      "INFO:tensorflow:step = 3801, loss = 1.05081e+11 (0.186 sec)\n",
      "INFO:tensorflow:global_step/sec: 532.557\n",
      "INFO:tensorflow:step = 3901, loss = 8.91027e+10 (0.188 sec)\n",
      "INFO:tensorflow:global_step/sec: 522.967\n",
      "INFO:tensorflow:step = 4001, loss = 4.32037e+10 (0.192 sec)\n",
      "INFO:tensorflow:global_step/sec: 542.495\n",
      "INFO:tensorflow:step = 4101, loss = 9.14222e+10 (0.184 sec)\n",
      "INFO:tensorflow:global_step/sec: 521.072\n",
      "INFO:tensorflow:step = 4201, loss = 6.86782e+10 (0.193 sec)\n",
      "INFO:tensorflow:global_step/sec: 522.904\n",
      "INFO:tensorflow:step = 4301, loss = 8.56832e+10 (0.190 sec)\n",
      "INFO:tensorflow:global_step/sec: 542.098\n",
      "INFO:tensorflow:step = 4401, loss = 6.98464e+10 (0.186 sec)\n",
      "INFO:tensorflow:global_step/sec: 531.569\n",
      "INFO:tensorflow:step = 4501, loss = 1.06193e+11 (0.186 sec)\n",
      "INFO:tensorflow:global_step/sec: 498.337\n",
      "INFO:tensorflow:step = 4601, loss = 1.43692e+11 (0.202 sec)\n",
      "INFO:tensorflow:global_step/sec: 474.035\n",
      "INFO:tensorflow:step = 4701, loss = 9.17508e+10 (0.211 sec)\n",
      "INFO:tensorflow:global_step/sec: 533.789\n",
      "INFO:tensorflow:step = 4801, loss = 6.00447e+10 (0.189 sec)\n",
      "INFO:tensorflow:global_step/sec: 549.09\n",
      "INFO:tensorflow:step = 4901, loss = 2.07652e+11 (0.181 sec)\n",
      "INFO:tensorflow:global_step/sec: 563.197\n",
      "INFO:tensorflow:step = 5001, loss = 1.80474e+11 (0.179 sec)\n",
      "INFO:tensorflow:global_step/sec: 559.992\n",
      "INFO:tensorflow:step = 5101, loss = 1.38262e+11 (0.178 sec)\n",
      "INFO:tensorflow:global_step/sec: 520.014\n",
      "INFO:tensorflow:step = 5201, loss = 1.04309e+11 (0.192 sec)\n",
      "INFO:tensorflow:global_step/sec: 559.016\n",
      "INFO:tensorflow:step = 5301, loss = 1.8668e+11 (0.178 sec)\n",
      "INFO:tensorflow:global_step/sec: 531.438\n",
      "INFO:tensorflow:step = 5401, loss = 1.3785e+11 (0.187 sec)\n",
      "INFO:tensorflow:global_step/sec: 540.734\n",
      "INFO:tensorflow:step = 5501, loss = 1.67281e+11 (0.187 sec)\n",
      "INFO:tensorflow:global_step/sec: 538.53\n",
      "INFO:tensorflow:step = 5601, loss = 1.28284e+11 (0.184 sec)\n",
      "INFO:tensorflow:global_step/sec: 556.002\n",
      "INFO:tensorflow:step = 5701, loss = 3.50634e+10 (0.182 sec)\n",
      "INFO:tensorflow:global_step/sec: 525.829\n",
      "INFO:tensorflow:step = 5801, loss = 1.32234e+11 (0.189 sec)\n",
      "INFO:tensorflow:global_step/sec: 502.056\n",
      "INFO:tensorflow:step = 5901, loss = 3.33336e+10 (0.199 sec)\n",
      "INFO:tensorflow:global_step/sec: 553.403\n",
      "INFO:tensorflow:step = 6001, loss = 4.17886e+10 (0.182 sec)\n",
      "INFO:tensorflow:global_step/sec: 529.108\n",
      "INFO:tensorflow:step = 6101, loss = 1.12649e+11 (0.187 sec)\n",
      "INFO:tensorflow:global_step/sec: 533.504\n",
      "INFO:tensorflow:step = 6201, loss = 6.7341e+10 (0.189 sec)\n",
      "INFO:tensorflow:global_step/sec: 527.568\n",
      "INFO:tensorflow:step = 6301, loss = 9.02194e+10 (0.189 sec)\n",
      "INFO:tensorflow:global_step/sec: 482.126\n",
      "INFO:tensorflow:step = 6401, loss = 5.88282e+10 (0.209 sec)\n",
      "INFO:tensorflow:global_step/sec: 516.541\n",
      "INFO:tensorflow:step = 6501, loss = 2.00603e+11 (0.193 sec)\n",
      "INFO:tensorflow:global_step/sec: 562.354\n",
      "INFO:tensorflow:step = 6601, loss = 1.07191e+11 (0.176 sec)\n",
      "INFO:tensorflow:global_step/sec: 532.016\n",
      "INFO:tensorflow:step = 6701, loss = 2.92158e+10 (0.188 sec)\n",
      "INFO:tensorflow:global_step/sec: 565.459\n",
      "INFO:tensorflow:step = 6801, loss = 1.13461e+11 (0.176 sec)\n",
      "INFO:tensorflow:global_step/sec: 540.431\n",
      "INFO:tensorflow:step = 6901, loss = 2.66141e+11 (0.185 sec)\n",
      "INFO:tensorflow:global_step/sec: 529.389\n",
      "INFO:tensorflow:step = 7001, loss = 1.14959e+11 (0.191 sec)\n",
      "INFO:tensorflow:global_step/sec: 433.418\n",
      "INFO:tensorflow:step = 7101, loss = 3.9414e+10 (0.230 sec)\n",
      "INFO:tensorflow:global_step/sec: 435.073\n",
      "INFO:tensorflow:step = 7201, loss = 3.68696e+10 (0.231 sec)\n",
      "INFO:tensorflow:global_step/sec: 478.531\n",
      "INFO:tensorflow:step = 7301, loss = 9.291e+10 (0.209 sec)\n",
      "INFO:tensorflow:global_step/sec: 464.831\n",
      "INFO:tensorflow:step = 7401, loss = 6.74256e+10 (0.215 sec)\n",
      "INFO:tensorflow:global_step/sec: 476.995\n",
      "INFO:tensorflow:step = 7501, loss = 8.79018e+10 (0.208 sec)\n",
      "INFO:tensorflow:global_step/sec: 415.043\n",
      "INFO:tensorflow:step = 7601, loss = 6.978e+10 (0.242 sec)\n",
      "INFO:tensorflow:global_step/sec: 448.263\n",
      "INFO:tensorflow:step = 7701, loss = 2.78271e+10 (0.225 sec)\n",
      "INFO:tensorflow:global_step/sec: 501.804\n",
      "INFO:tensorflow:step = 7801, loss = 1.15736e+11 (0.197 sec)\n",
      "INFO:tensorflow:global_step/sec: 426.615\n",
      "INFO:tensorflow:step = 7901, loss = 1.60514e+11 (0.235 sec)\n",
      "INFO:tensorflow:global_step/sec: 524.054\n",
      "INFO:tensorflow:step = 8001, loss = 3.37954e+10 (0.191 sec)\n",
      "INFO:tensorflow:global_step/sec: 523.213\n",
      "INFO:tensorflow:step = 8101, loss = 5.99165e+10 (0.190 sec)\n",
      "INFO:tensorflow:global_step/sec: 540.177\n",
      "INFO:tensorflow:step = 8201, loss = 1.6452e+11 (0.185 sec)\n",
      "INFO:tensorflow:global_step/sec: 518.19\n",
      "INFO:tensorflow:step = 8301, loss = 7.14364e+10 (0.192 sec)\n",
      "INFO:tensorflow:global_step/sec: 537.279\n",
      "INFO:tensorflow:step = 8401, loss = 6.61432e+10 (0.186 sec)\n",
      "INFO:tensorflow:global_step/sec: 514.481\n",
      "INFO:tensorflow:step = 8501, loss = 2.02522e+11 (0.193 sec)\n",
      "INFO:tensorflow:global_step/sec: 562.512\n",
      "INFO:tensorflow:step = 8601, loss = 6.7481e+10 (0.178 sec)\n",
      "INFO:tensorflow:global_step/sec: 531.403\n",
      "INFO:tensorflow:step = 8701, loss = 5.89642e+10 (0.189 sec)\n",
      "INFO:tensorflow:global_step/sec: 503.473\n",
      "INFO:tensorflow:step = 8801, loss = 6.53335e+10 (0.200 sec)\n",
      "INFO:tensorflow:global_step/sec: 438.378\n",
      "INFO:tensorflow:step = 8901, loss = 2.82962e+10 (0.226 sec)\n",
      "INFO:tensorflow:global_step/sec: 438.182\n",
      "INFO:tensorflow:step = 9001, loss = 8.15267e+10 (0.231 sec)\n",
      "INFO:tensorflow:global_step/sec: 513.882\n",
      "INFO:tensorflow:step = 9101, loss = 4.55844e+10 (0.195 sec)\n",
      "INFO:tensorflow:global_step/sec: 535.087\n",
      "INFO:tensorflow:step = 9201, loss = 1.67735e+11 (0.185 sec)\n",
      "INFO:tensorflow:global_step/sec: 522.167\n",
      "INFO:tensorflow:step = 9301, loss = 2.15977e+10 (0.192 sec)\n",
      "INFO:tensorflow:global_step/sec: 517.815\n",
      "INFO:tensorflow:step = 9401, loss = 7.66827e+10 (0.194 sec)\n",
      "INFO:tensorflow:global_step/sec: 527.338\n",
      "INFO:tensorflow:step = 9501, loss = 1.98019e+11 (0.191 sec)\n",
      "INFO:tensorflow:global_step/sec: 552.752\n",
      "INFO:tensorflow:step = 9601, loss = 9.23795e+10 (0.179 sec)\n",
      "INFO:tensorflow:global_step/sec: 573.34\n",
      "INFO:tensorflow:step = 9701, loss = 1.10467e+11 (0.174 sec)\n",
      "INFO:tensorflow:global_step/sec: 542.859\n",
      "INFO:tensorflow:step = 9801, loss = 1.4185e+11 (0.184 sec)\n",
      "INFO:tensorflow:global_step/sec: 495.164\n",
      "INFO:tensorflow:step = 9901, loss = 2.06316e+11 (0.204 sec)\n",
      "INFO:tensorflow:global_step/sec: 522.525\n",
      "INFO:tensorflow:step = 10001, loss = 8.27262e+10 (0.190 sec)\n",
      "INFO:tensorflow:global_step/sec: 523.007\n",
      "INFO:tensorflow:step = 10101, loss = 4.21215e+10 (0.191 sec)\n",
      "INFO:tensorflow:global_step/sec: 508.057\n",
      "INFO:tensorflow:step = 10201, loss = 3.49243e+10 (0.196 sec)\n",
      "INFO:tensorflow:global_step/sec: 541.021\n",
      "INFO:tensorflow:step = 10301, loss = 1.06585e+11 (0.185 sec)\n",
      "INFO:tensorflow:global_step/sec: 499.504\n",
      "INFO:tensorflow:step = 10401, loss = 1.78469e+11 (0.201 sec)\n",
      "INFO:tensorflow:global_step/sec: 542.817\n",
      "INFO:tensorflow:step = 10501, loss = 6.90281e+10 (0.185 sec)\n",
      "INFO:tensorflow:global_step/sec: 515.435\n",
      "INFO:tensorflow:step = 10601, loss = 1.23076e+11 (0.193 sec)\n",
      "INFO:tensorflow:global_step/sec: 546.644\n",
      "INFO:tensorflow:step = 10701, loss = 8.70146e+10 (0.183 sec)\n",
      "INFO:tensorflow:global_step/sec: 537.211\n",
      "INFO:tensorflow:step = 10801, loss = 1.35842e+11 (0.187 sec)\n",
      "INFO:tensorflow:global_step/sec: 501.201\n",
      "INFO:tensorflow:step = 10901, loss = 7.55294e+10 (0.198 sec)\n",
      "INFO:tensorflow:Saving checkpoints for 11000 into /tmp/tmppx3_3jpi/model.ckpt.\n",
      "INFO:tensorflow:Loss for final step: 8.80315e+10.\n"
     ]
    },
    {
     "data": {
      "text/plain": [
       "<tensorflow.python.estimator.canned.dnn.DNNRegressor at 0x7efcfebd09b0>"
      ]
     },
     "execution_count": 25,
     "metadata": {},
     "output_type": "execute_result"
    }
   ],
   "source": [
    "estimator.train(input_fn=input_function,steps=10000)"
   ]
  },
  {
   "cell_type": "code",
   "execution_count": 26,
   "metadata": {
    "collapsed": true
   },
   "outputs": [],
   "source": [
    "pred_input_func = tf.estimator.inputs.pandas_input_fn(x=x_test,batch_size=10,num_epochs=1,shuffle=False)"
   ]
  },
  {
   "cell_type": "code",
   "execution_count": 27,
   "metadata": {
    "collapsed": true
   },
   "outputs": [],
   "source": [
    "pred_res = estimator.predict(pred_input_func)"
   ]
  },
  {
   "cell_type": "code",
   "execution_count": 28,
   "metadata": {
    "collapsed": false
   },
   "outputs": [
    {
     "name": "stdout",
     "output_type": "stream",
     "text": [
      "INFO:tensorflow:Calling model_fn.\n",
      "INFO:tensorflow:Done calling model_fn.\n",
      "INFO:tensorflow:Graph was finalized.\n",
      "INFO:tensorflow:Restoring parameters from /tmp/tmppx3_3jpi/model.ckpt-11000\n",
      "INFO:tensorflow:Running local_init_op.\n",
      "INFO:tensorflow:Done running local_init_op.\n"
     ]
    }
   ],
   "source": [
    "predictions = list(pred_res)"
   ]
  },
  {
   "cell_type": "code",
   "execution_count": 29,
   "metadata": {
    "collapsed": false
   },
   "outputs": [],
   "source": [
    "vals = []\n",
    "for i in predictions:\n",
    "    vals.append(i['predictions'])"
   ]
  },
  {
   "cell_type": "code",
   "execution_count": 30,
   "metadata": {
    "collapsed": true
   },
   "outputs": [],
   "source": [
    "from sklearn.metrics import mean_squared_error"
   ]
  },
  {
   "cell_type": "code",
   "execution_count": 31,
   "metadata": {
    "collapsed": false
   },
   "outputs": [
    {
     "name": "stdout",
     "output_type": "stream",
     "text": [
      "102796.074879\n"
     ]
    }
   ],
   "source": [
    "print(mean_squared_error(y_test,vals)**0.5)"
   ]
  },
  {
   "cell_type": "code",
   "execution_count": null,
   "metadata": {
    "collapsed": true
   },
   "outputs": [],
   "source": []
  }
 ],
 "metadata": {
  "anaconda-cloud": {},
  "kernelspec": {
   "display_name": "Python [conda root]",
   "language": "python",
   "name": "conda-root-py"
  },
  "language_info": {
   "codemirror_mode": {
    "name": "ipython",
    "version": 3
   },
   "file_extension": ".py",
   "mimetype": "text/x-python",
   "name": "python",
   "nbconvert_exporter": "python",
   "pygments_lexer": "ipython3",
   "version": "3.5.2"
  }
 },
 "nbformat": 4,
 "nbformat_minor": 2
}
